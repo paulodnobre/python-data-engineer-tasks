{
 "cells": [
  {
   "cell_type": "code",
   "execution_count": 1,
   "metadata": {},
   "outputs": [],
   "source": [
    "# Perform required imports\n",
    "import json\n",
    "import psycopg2\n",
    "import logging"
   ]
  },
  {
   "cell_type": "code",
   "execution_count": 2,
   "metadata": {},
   "outputs": [
    {
     "name": "stdout",
     "output_type": "stream",
     "text": [
      "{'PurchaseOrders': [{'PurchaseOrderNo': 1, 'Address': [{'Type': 'Shipping', 'Name': 'Ellen Adams', 'Street': '123 Maple Street', 'City': 'Mill Valley', 'State': 'CA', 'Zip': 10999, 'Country': 'USA'}, {'Type': 'Billing', 'Name': 'Tai Yee', 'Street': '8 Oak Avenue', 'City': 'Old Town', 'State': 'PA', 'Zip': 95819, 'Country': 'USA'}], 'DeliveryNotes': 'Please leave packages in shed by driveway.', 'Items': {'Item': [{'PartNumber': '872-AA', 'ProductName': 'Lawnmower', 'Quantity': 1, 'USPrice': 148.95, 'Comment': 'Confirm this is electric'}, {'PartNumber': '926-AA', 'ProductName': 'Baby Monitor', 'Quantity': 2, 'USPrice': 39.98, 'ShipDate': '1999-05-21'}]}}, {'PurchaseOrderNo': 2, 'Address': [{'Type': 'Shipping', 'Name': 'Cristian Osorio', 'Street': '456 Main Street', 'City': 'Buffalo', 'State': 'NY', 'Zip': 98112, 'Country': 'USA'}, {'Type': 'Billing', 'Name': 'Cristian Osorio', 'Street': '456 Main Street', 'City': 'Buffalo', 'State': 'NY', 'Zip': 98112, 'Country': 'USA'}], 'DeliveryNotes': 'Please notify me before shipping.', 'Items': {'Item': {'PartNumber': '456-NM', 'ProductName': 'Power Supply', 'Quantity': 1, 'USPrice': 45.99}}}, {'PurchaseOrderNo': 3, 'Address': [{'Type': 'Shipping', 'Name': 'Jessica Arnold', 'Street': '4055 Madison Ave', 'City': 'Seattle', 'State': 'WA', 'Zip': 98112, 'Country': 'USA'}, {'Type': 'Billing', 'Name': 'Jessica Arnold', 'Street': '4055 Madison Ave', 'City': 'Buffalo', 'State': 'NY', 'Zip': 98112, 'Country': 'USA'}], 'Items': {'Item': [{'PartNumber': '898-AZ', 'ProductName': 'Computer Keyboard', 'Quantity': 1, 'USPrice': 29.99}, {'PartNumber': '898-AM', 'ProductName': 'Wireless Mouse', 'Quantity': 1, 'USPrice': 14.99}]}}]}\n"
     ]
    }
   ],
   "source": [
    "# Read the json file\n",
    "with open('purchase_orders.json', 'r') as json_file:\n",
    "    json_data = json.load(json_file)\n",
    "    print(json_data)"
   ]
  },
  {
   "cell_type": "code",
   "execution_count": 3,
   "metadata": {},
   "outputs": [],
   "source": [
    "# Define table columns\n",
    "columns = [\n",
    "    \"po\",\n",
    "    \"billing_name\",\n",
    "    \"billing_street\",\n",
    "    \"billing_city\",\n",
    "    \"billing_state\",\n",
    "    \"billing_zip\",\n",
    "    \"billing_country\",\n",
    "    \"items\"\n",
    "]"
   ]
  },
  {
   "cell_type": "code",
   "execution_count": 4,
   "metadata": {},
   "outputs": [],
   "source": [
    "# Define a connect_to_database function\n",
    "def connect_to_database():\n",
    "    db_conn = {\n",
    "        'user': 'postgres',\n",
    "        'password': 'postgres',\n",
    "        'database': 'postgres',\n",
    "        'host': 'localhost',\n",
    "        'port': 15432\n",
    "    }\n",
    "    try:\n",
    "        conn = psycopg2.connect(**db_conn)\n",
    "        return conn\n",
    "    except Exception as e:\n",
    "        logging.error(\"Error: Unable to connect to the database\")\n",
    "        logging.error(e)\n",
    "        return None"
   ]
  },
  {
   "cell_type": "code",
   "execution_count": 5,
   "metadata": {},
   "outputs": [],
   "source": [
    "# Instantiate a database connection and creates a table\n",
    "conn = connect_to_database()\n",
    "\n",
    "cur = conn.cursor()\n",
    "\n",
    "create_sql = \"\"\"\n",
    "DROP TABLE IF EXISTS purchase_orders;\n",
    "CREATE TABLE purchase_orders (\n",
    "    po INT PRIMARY KEY,\n",
    "    billing_name TEXT,\n",
    "    billing_street TEXT,\n",
    "    billing_city TEXT,\n",
    "    billing_state TEXT,\n",
    "    billing_zip INT,\n",
    "    billing_country TEXT,\n",
    "    items TEXT\n",
    ")\n",
    "\"\"\"\n",
    "with cur as cursor:\n",
    "    cur.execute(create_sql)\n",
    "\n",
    "conn.commit()"
   ]
  },
  {
   "cell_type": "code",
   "execution_count": 6,
   "metadata": {},
   "outputs": [],
   "source": [
    "# Reads the JSON and insert into purchase_orders table\n",
    "conn = connect_to_database()\n",
    "\n",
    "cur = conn.cursor()\n",
    "\n",
    "for product in json_data[\"PurchaseOrders\"]:\n",
    "    po = product['PurchaseOrderNo']\n",
    "    billing_address = product['Address'][1]\n",
    "    billing_name = billing_address['Name']\n",
    "    billing_street = billing_address['Street']\n",
    "    billing_city = billing_address['City']\n",
    "    billing_state = billing_address['State']\n",
    "    billing_zip = billing_address['Zip']\n",
    "    billing_country = billing_address['Country']\n",
    "\n",
    "    items = product.get('Items', {}).get('Item', [])\n",
    "    \n",
    "    if isinstance(items, list):\n",
    "        formatted_items = \" | \".join([\n",
    "            f\"{item['PartNumber']}:{item['Quantity']}:{item['USPrice']}\" for item in items\n",
    "        ])\n",
    "    elif isinstance(items, dict):\n",
    "        formatted_items = f\"{items['PartNumber']}:{items['Quantity']}:{items['USPrice']}\"\n",
    "\n",
    "    insert_sql = \"\"\"\n",
    "        INSERT INTO purchase_orders ({columns})\n",
    "        VALUES (%s, %s, %s, %s, %s, %s, %s, %s);\n",
    "    \"\"\".format(columns=\", \".join(columns))\n",
    "\n",
    "    values = (po, billing_name, billing_street, billing_city, billing_state, billing_zip, billing_country, formatted_items)\n",
    "\n",
    "    cur.execute(insert_sql, values)"
   ]
  },
  {
   "cell_type": "code",
   "execution_count": 7,
   "metadata": {},
   "outputs": [
    {
     "name": "stdout",
     "output_type": "stream",
     "text": [
      "(1, 'Tai Yee', '8 Oak Avenue', 'Old Town', 'PA', 95819, 'USA', '872-AA:1:148.95 | 926-AA:2:39.98')\n",
      "(2, 'Cristian Osorio', '456 Main Street', 'Buffalo', 'NY', 98112, 'USA', '456-NM:1:45.99')\n",
      "(3, 'Jessica Arnold', '4055 Madison Ave', 'Buffalo', 'NY', 98112, 'USA', '898-AZ:1:29.99 | 898-AM:1:14.99')\n"
     ]
    }
   ],
   "source": [
    "# Query the inserted data\n",
    "sql_query = \"SELECT * FROM purchase_orders;\"\n",
    "cur = conn.cursor()\n",
    "cur.execute(sql_query)\n",
    "rows = cur.fetchall()\n",
    "for row in rows:\n",
    "    print(row)"
   ]
  },
  {
   "cell_type": "code",
   "execution_count": 8,
   "metadata": {},
   "outputs": [],
   "source": [
    "# Closes the cursor and the connection\n",
    "cur.close()\n",
    "conn.close()"
   ]
  },
  {
   "cell_type": "code",
   "execution_count": null,
   "metadata": {},
   "outputs": [],
   "source": []
  }
 ],
 "metadata": {
  "kernelspec": {
   "display_name": "Python 3",
   "language": "python",
   "name": "python3"
  },
  "language_info": {
   "codemirror_mode": {
    "name": "ipython",
    "version": 3
   },
   "file_extension": ".py",
   "mimetype": "text/x-python",
   "name": "python",
   "nbconvert_exporter": "python",
   "pygments_lexer": "ipython3",
   "version": "3.11.5"
  },
  "orig_nbformat": 4
 },
 "nbformat": 4,
 "nbformat_minor": 2
}
